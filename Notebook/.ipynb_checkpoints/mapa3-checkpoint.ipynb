{
 "cells": [
  {
   "cell_type": "code",
   "execution_count": 2,
   "id": "c36616fd-e315-4948-af87-288471fe7e21",
   "metadata": {},
   "outputs": [],
   "source": [
    "import geopandas as gpd\n",
    "import pandas as pd\n",
    "import json\n",
    "from ipyleaflet import Map, GeoJSON, basemaps, FullScreenControl, Marker"
   ]
  },
  {
   "cell_type": "code",
   "execution_count": 3,
   "id": "031ef09c-f705-4a7e-9d21-9a902f6aba28",
   "metadata": {},
   "outputs": [],
   "source": [
    "#Carregue o arquivo .geojson com as geometrias das regiões\n",
    "geojson_path = \"c:/Users/avsj/iCloudDrive/01.Antonio/01.Projetos/celso/Resultados/UPG_REGIOES.geojson\"\n",
    "regioes_gdf = gpd.read_file(geojson_path)\n",
    "\n",
    "# Carregue o DataFrame do Excel com as porcentagens de voto por região\n",
    "excel_path = \"c:/Users/avsj/iCloudDrive/01.Antonio/01.Projetos/celso/Dataset/UPG_VOTO_ESTIMULADO_2.xlsx\"\n",
    "dados_df = pd.read_excel(excel_path)\n",
    "\n",
    "# Faça um merge dos dois conjuntos de dados com base no nome da região\n",
    "merged_df = pd.merge(regioes_gdf, dados_df, left_on='name', right_on='Região', suffixes=('_geo', '_data'))"
   ]
  },
  {
   "cell_type": "code",
   "execution_count": 4,
   "id": "dbe4d90c-a77f-4010-8c1b-6536e2db8025",
   "metadata": {},
   "outputs": [],
   "source": [
    "# Converte o DataFrame para um dicionário\n",
    "geojson_data = json.loads(merged_df.to_json())"
   ]
  },
  {
   "cell_type": "code",
   "execution_count": 5,
   "id": "21618f2d-3745-49cc-bac0-1981adb62844",
   "metadata": {},
   "outputs": [],
   "source": [
    "# Crie o mapa\n",
    "center = [merged_df.iloc[0]['geometry'].centroid.y, merged_df.iloc[0]['geometry'].centroid.x]\n",
    "m = Map(center=center, zoom=12, basemap=basemaps.Esri.NatGeoWorldMap)\n",
    "\n",
    "# Adicione as geometrias das regiões como camadas de polígonos\n",
    "geo_json = GeoJSON(data=geojson_data, style={'fillColor': 'blue', 'color': 'white', 'weight': 2, 'fillOpacity': 0.5})\n",
    "m.add_layer(geo_json)"
   ]
  },
  {
   "cell_type": "code",
   "execution_count": 6,
   "id": "85f2fcd0-f040-4a2e-8169-c3b3c22296bd",
   "metadata": {},
   "outputs": [],
   "source": [
    "# Adicione rótulos com as informações desejadas diretamente no mapa\n",
    "for idx, row in merged_df.iterrows():\n",
    "    marker = Marker(location=[row['geometry'].centroid.y, row['geometry'].centroid.x],\n",
    "                    draggable=False,\n",
    "                    title=row['Região_data'],\n",
    "                    rise_on_hover=True)\n",
    "    m.add_layer(marker)\n",
    "\n",
    "# Adicione controle de tela cheia\n",
    "m.add_control(FullScreenControl())\n",
    "\n",
    "# Salve o mapa em um arquivo HTML\n",
    "m.save('mapa3.html')"
   ]
  },
  {
   "cell_type": "code",
   "execution_count": null,
   "id": "a71ac445-678f-4d68-902a-9e18eb974874",
   "metadata": {},
   "outputs": [],
   "source": []
  }
 ],
 "metadata": {
  "kernelspec": {
   "display_name": "Python 3 (ipykernel)",
   "language": "python",
   "name": "python3"
  },
  "language_info": {
   "codemirror_mode": {
    "name": "ipython",
    "version": 3
   },
   "file_extension": ".py",
   "mimetype": "text/x-python",
   "name": "python",
   "nbconvert_exporter": "python",
   "pygments_lexer": "ipython3",
   "version": "3.12.2"
  }
 },
 "nbformat": 4,
 "nbformat_minor": 5
}
