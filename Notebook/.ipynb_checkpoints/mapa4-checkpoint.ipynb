{
 "cells": [
  {
   "cell_type": "code",
   "execution_count": 1,
   "id": "5c98a280-27b2-4b98-ab97-45a8f306b9f0",
   "metadata": {},
   "outputs": [],
   "source": [
    "import folium"
   ]
  },
  {
   "cell_type": "code",
   "execution_count": 2,
   "id": "51ef340f-b001-4dba-83b4-567c13b85748",
   "metadata": {},
   "outputs": [],
   "source": [
    "# Carregar o GeoJSON\n",
    "geojson = folium.GeoJson('c:/Users/avsj/iCloudDrive/01.Antonio/01.Projetos/celso/Resultados/UPG_REGIOES.geojson')"
   ]
  },
  {
   "cell_type": "code",
   "execution_count": 3,
   "id": "cf3b3cec-6434-4f0c-b005-834a5bf5f977",
   "metadata": {},
   "outputs": [],
   "source": [
    "# Dicionário de cores\n",
    "cores = {\n",
    "  '1': 'darkgreen',\n",
    "  '2': 'darkgreen',\n",
    "  '8': 'darkgreen',\n",
    "  '11': 'darkgreen',\n",
    "  '12': 'darkgreen',\n",
    "  '4': 'darkblue',\n",
    "  '6': 'darkblue',\n",
    "  '7': 'darkblue',\n",
    "  '10': 'darkblue',\n",
    "  '13': 'darkblue',\n",
    "  '3': 'white',\n",
    "  '9': 'white',\n",
    "  '5': 'yellow',\n",
    "  '14': 'yellow'\n",
    "}\n",
    "\n",
    "# Estilo das Regiões\n",
    "geojson.style_function = lambda feature: {\n",
    "  'fillColor': cores[feature['properties']['Região']]\n",
    "}\n",
    "\n",
    "# Criar o mapa\n",
    "map = folium.Map(location=[-19.8157, -47.9239], zoom_start=6)\n",
    "\n",
    "# Adicionar camada GeoJSON\n",
    "map.add_child(geojson)\n",
    "\n",
    "# Exibir o mapa\n",
    "map.save('mapa4.html')"
   ]
  },
  {
   "cell_type": "code",
   "execution_count": null,
   "id": "35758ab8-9f36-48ee-8d78-9b99860426b9",
   "metadata": {},
   "outputs": [],
   "source": []
  }
 ],
 "metadata": {
  "kernelspec": {
   "display_name": "Python 3 (ipykernel)",
   "language": "python",
   "name": "python3"
  },
  "language_info": {
   "codemirror_mode": {
    "name": "ipython",
    "version": 3
   },
   "file_extension": ".py",
   "mimetype": "text/x-python",
   "name": "python",
   "nbconvert_exporter": "python",
   "pygments_lexer": "ipython3",
   "version": "3.12.2"
  }
 },
 "nbformat": 4,
 "nbformat_minor": 5
}
