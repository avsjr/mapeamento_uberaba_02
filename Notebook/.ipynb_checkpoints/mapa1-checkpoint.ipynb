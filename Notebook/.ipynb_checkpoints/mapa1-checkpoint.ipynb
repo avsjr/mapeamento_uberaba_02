{
 "cells": [
  {
   "cell_type": "code",
   "execution_count": null,
   "id": "ba320676-e3cd-4dc1-ad6b-a27e1be173eb",
   "metadata": {},
   "outputs": [],
   "source": [
    "import geopandas as gpd\n",
    "import pandas as pd\n",
    "import folium\n",
    "from folium.plugins import MarkerCluster"
   ]
  },
  {
   "cell_type": "code",
   "execution_count": null,
   "id": "4b2928b1-5a97-4e21-bde0-c6e24ef31bac",
   "metadata": {},
   "outputs": [],
   "source": [
    "# Carregue o arquivo .geojson com as geometrias das regiões\n",
    "geojson_path = \"c:/Users/avsj/iCloudDrive/01.Antonio/01.Projetos/celso/Resultados/UPG_REGIOES.geojson\"\n",
    "regioes_gdf = gpd.read_file(geojson_path)\n",
    "\n",
    "# Carregue o DataFrame do Excel com as porcentagens de voto por região\n",
    "excel_path = \"c:/Users/avsj/iCloudDrive/01.Antonio/01.Projetos/celso/Dataset/UPG_VOTO_ESTIMULADO_2.xlsx\"\n",
    "dados_df = pd.read_excel(excel_path)"
   ]
  },
  {
   "cell_type": "code",
   "execution_count": null,
   "id": "c9d8f1ed-24bd-49e4-8580-9398e617b229",
   "metadata": {},
   "outputs": [],
   "source": [
    "# Faça um merge dos dois conjuntos de dados com base no nome da região\n",
    "merged_df = pd.merge(regioes_gdf, dados_df, left_on='name', right_on='Região', suffixes=('_geo', '_data'))\n",
    "\n",
    "# Criar um dicionário contendo as informações necessárias para cada região\n",
    "geojson_data = merged_df.to_json()"
   ]
  },
  {
   "cell_type": "code",
   "execution_count": null,
   "id": "b23b041e-375e-4ea6-9ac3-44042bac77a1",
   "metadata": {},
   "outputs": [],
   "source": [
    "# Crie o mapa\n",
    "mapa = folium.Map(location=[merged_df.iloc[0]['geometry'].centroid.y, merged_df.iloc[0]['geometry'].centroid.x], zoom_start=12)\n",
    "\n",
    "## Adicione as geometrias das regiões como camadas de polígonos\n",
    "for idx, row in merged_df.iterrows():\n",
    "    folium.GeoJson(row['geometry'],\n",
    "                   name='geojson',\n",
    "                   style_function=lambda feature: {\n",
    "                       'fillColor': 'blue' if row['Elisa Araújo_data'] > row['Tony Carlos_data'] else 'black',\n",
    "                       'color': 'white',\n",
    "                       'weight': 2,\n",
    "                       'fillOpacity': 0.5\n",
    "                   },\n",
    "                   tooltip=row['Região_data'],  # Adicione tooltip para indicar região\n",
    "                   ).add_to(mapa)\n",
    "\n",
    "    # Adicione rótulos com as informações desejadas diretamente no mapa\n",
    "    folium.Marker(location=[row['geometry'].centroid.y, row['geometry'].centroid.x],\n",
    "                  icon=None,\n",
    "                  popup=f\"Região: {row['Região_data']}<br>Elisa Araújo: {row['Elisa Araújo_data']}<br>Tony Carlos: {row['Tony Carlos_data']}\",\n",
    "                  tooltip=row['Região_data'],\n",
    "                  ).add_to(mapa)\n",
    "\n",
    "# Adicione um controle de camadas (layers control)\n",
    "folium.LayerControl().add_to(mapa)\n",
    "\n",
    "# Salve o mapa em um arquivo HTML\n",
    "mapa.save('mapa1.html')"
   ]
  },
  {
   "cell_type": "code",
   "execution_count": null,
   "id": "21783d29-d478-4a68-a501-4eebcc2db907",
   "metadata": {},
   "outputs": [],
   "source": []
  }
 ],
 "metadata": {
  "kernelspec": {
   "display_name": "Python 3 (ipykernel)",
   "language": "python",
   "name": "python3"
  },
  "language_info": {
   "codemirror_mode": {
    "name": "ipython",
    "version": 3
   },
   "file_extension": ".py",
   "mimetype": "text/x-python",
   "name": "python",
   "nbconvert_exporter": "python",
   "pygments_lexer": "ipython3",
   "version": "3.12.2"
  }
 },
 "nbformat": 4,
 "nbformat_minor": 5
}
